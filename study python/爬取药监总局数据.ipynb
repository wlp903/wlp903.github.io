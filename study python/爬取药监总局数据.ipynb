{
 "cells": [
  {
   "cell_type": "code",
   "execution_count": 2,
   "metadata": {},
   "outputs": [
    {
     "name": "stdout",
     "output_type": "stream",
     "text": [
      "存取完毕!!\n"
     ]
    }
   ],
   "source": [
    "import json\n",
    "import requests\n",
    "import pandas\n",
    "if __name__ == \"__main__\":\n",
    "    headers = {\n",
    "        'User-Agent': 'Mozilla/5.0 (Windows NT 6.1; Win64; x64) AppleWebKit/537.36 (KHTML, like Gecko) Chrome/90.0.4430.93 Safari/537.36'\n",
    "    }\n",
    "    id_list = []\n",
    "    all_data_list = []\n",
    "    url = 'http://scxk.nmpa.gov.cn:81/xk/itownet/portalAction.do?method=getXkzsList'\n",
    "    for page in range(1,51):\n",
    "        page = str(page)\n",
    "        data = {\n",
    "            'on':'true',\n",
    "            'page':page ,\n",
    "            'pageSize':'15',\n",
    "            'productName':'',\n",
    "            'conditionType':'1',\n",
    "            'applyname':'',\n",
    "            'applysn':'',   \n",
    "        }   \n",
    "        json_ids = requests.post(url = url,headers = headers, data = data).json()\n",
    "        for dic in json_ids['list']:\n",
    "            id_list.append(dic['ID'])\n",
    "    post_url = 'http://scxk.nmpa.gov.cn:81/xk/itownet/portalAction.do?method=getXkzsById'\n",
    "    for id in id_list:\n",
    "        data = {\n",
    "            'id':id\n",
    "        }\n",
    "        detail_json = requests.post(url = post_url,headers = headers,data = data).json()\n",
    "        all_data_list.append(detail_json)\n",
    "    s = pandas.DataFrame( all_data_list,columns=[\"epsName\",\"epsAddress\",\"xkDateStr\",\"xkDate\"])\n",
    "    s.to_excel(excel_writer =r'D:\\Python\\workbook\\Practice_others\\test.xlsx',sheet_name = '化妆品企业名单',index = False,encoding = 'utf-8')\n",
    "    print(\"存取完毕!!\")"
   ]
  },
  {
   "cell_type": "code",
   "execution_count": null,
   "metadata": {},
   "outputs": [],
   "source": []
  }
 ],
 "metadata": {
  "kernelspec": {
   "display_name": "Python 3",
   "language": "python",
   "name": "python3"
  },
  "language_info": {
   "codemirror_mode": {
    "name": "ipython",
    "version": 3
   },
   "file_extension": ".py",
   "mimetype": "text/x-python",
   "name": "python",
   "nbconvert_exporter": "python",
   "pygments_lexer": "ipython3",
   "version": "3.8.5"
  },
  "toc": {
   "base_numbering": 1,
   "nav_menu": {},
   "number_sections": true,
   "sideBar": true,
   "skip_h1_title": false,
   "title_cell": "Table of Contents",
   "title_sidebar": "Contents",
   "toc_cell": false,
   "toc_position": {},
   "toc_section_display": true,
   "toc_window_display": false
  }
 },
 "nbformat": 4,
 "nbformat_minor": 4
}
